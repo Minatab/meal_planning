{
 "metadata": {
  "language_info": {
   "codemirror_mode": {
    "name": "ipython",
    "version": 3
   },
   "file_extension": ".py",
   "mimetype": "text/x-python",
   "name": "python",
   "nbconvert_exporter": "python",
   "pygments_lexer": "ipython3",
   "version": "3.7.3-final"
  },
  "orig_nbformat": 2,
  "kernelspec": {
   "name": "python_defaultSpec_1600462692300",
   "display_name": "Python 3.7.3 64-bit ('base': conda)"
  }
 },
 "nbformat": 4,
 "nbformat_minor": 2,
 "cells": [
  {
   "cell_type": "code",
   "execution_count": 19,
   "metadata": {},
   "outputs": [],
   "source": [
    "import json\n",
    "import os"
   ]
  },
  {
   "cell_type": "code",
   "execution_count": 10,
   "metadata": {
    "tags": []
   },
   "outputs": [
    {
     "output_type": "stream",
     "name": "stdout",
     "text": "/Users/mina/meal_planning\n"
    }
   ],
   "source": [
    "!pwd"
   ]
  },
  {
   "cell_type": "code",
   "execution_count": 11,
   "metadata": {},
   "outputs": [],
   "source": [
    "food_database_path = './food_database.json'"
   ]
  },
  {
   "cell_type": "code",
   "execution_count": 12,
   "metadata": {},
   "outputs": [],
   "source": [
    "with open(food_database_path, 'r') as fp:\n",
    "    food_database = json.load(fp)"
   ]
  },
  {
   "cell_type": "code",
   "execution_count": 15,
   "metadata": {
    "tags": []
   },
   "outputs": [
    {
     "output_type": "stream",
     "name": "stdout",
     "text": "{'unit': 'g', 'amount': 100, 'calories': 120, 'protein': 23, 'carbs': 0, 'fat': 3}\n"
    }
   ],
   "source": [
    "print(food_database[\"protein\"][\"chicken_breast\"])"
   ]
  },
  {
   "cell_type": "code",
   "execution_count": 81,
   "metadata": {},
   "outputs": [],
   "source": [
    "class meal_planner:\n",
    "    def __init__(self, database_path, output_dir):\n",
    "        self.database_path = database_path\n",
    "        self.output_dir = output_dir\n",
    "\n",
    "        if not os.path.isdir(self.output_dir):\n",
    "            os.makedirs(output_dir)\n",
    "\n",
    "        with open(self.database_path, 'r') as fp:\n",
    "            self.database = json.load(fp)\n",
    "\n",
    "    def get_macro(self, macro_name):\n",
    "        print(self.database[macro_name])\n",
    "\n",
    "    def get_macro_ingredients(self, macro_name):\n",
    "        print(\"In the {} these foods are available:\".format(macro_name))\n",
    "        ing_list = self.database[macro_name].keys()\n",
    "        for k in ing_list:\n",
    "            print(k.replace(\"_\", \" \"))\n",
    "\n",
    "    def get_ingredient_info(self, ingredient_name):\n",
    "        for k, v in self.database.items():\n",
    "            for kofv in v.keys():\n",
    "                if kofv == ingredient_name:\n",
    "                    print(\"{} is a {}. The info is as follows:\".format(ingredient_name, k))\n",
    "                    print(v[ingredient_name])\n",
    "                    return v[ingredient_name]\n",
    "\n",
    "    def how_much_macro(self, ingredient_name, grams, macro_name):\n",
    "\n",
    "        return amount_of_macro\n",
    "\n"
   ]
  },
  {
   "cell_type": "code",
   "execution_count": 82,
   "metadata": {},
   "outputs": [],
   "source": [
    "my_meal_planner = meal_planner(\"./food_database.json\", \"./myoutput\")"
   ]
  },
  {
   "cell_type": "code",
   "execution_count": 83,
   "metadata": {
    "tags": []
   },
   "outputs": [
    {
     "output_type": "stream",
     "name": "stdout",
     "text": "./food_database.json\n./myoutput\n"
    }
   ],
   "source": [
    "print(my_meal_planner.database_path)\n",
    "print(my_meal_planner.output_dir)"
   ]
  },
  {
   "cell_type": "code",
   "execution_count": 84,
   "metadata": {
    "tags": []
   },
   "outputs": [
    {
     "output_type": "stream",
     "name": "stdout",
     "text": "chicken_breast is a protein. The info is as follows:\n{'unit': 'g', 'amount': 100, 'calories': 120, 'protein': 23, 'carbs': 0, 'fat': 3}\n"
    }
   ],
   "source": [
    "my_meal_planner.get_ingredient_info('chicken_breast')"
   ]
  },
  {
   "cell_type": "code",
   "execution_count": 42,
   "metadata": {
    "tags": []
   },
   "outputs": [
    {
     "output_type": "execute_result",
     "data": {
      "text/plain": "dict_keys(['protein', 'carbs', 'fat', 'fruits', 'veggies', 'condiments'])"
     },
     "metadata": {},
     "execution_count": 42
    }
   ],
   "source": [
    "my_meal_planner.database.keys()"
   ]
  },
  {
   "cell_type": "code",
   "execution_count": 58,
   "metadata": {},
   "outputs": [
    {
     "output_type": "execute_result",
     "data": {
      "text/plain": "dict_keys(['protein', 'carbs', 'fat', 'fruits', 'veggies', 'condiments'])"
     },
     "metadata": {},
     "execution_count": 58
    }
   ],
   "source": [
    "my_meal_planner.database.keys()"
   ]
  },
  {
   "cell_type": "code",
   "execution_count": 67,
   "metadata": {},
   "outputs": [
    {
     "output_type": "execute_result",
     "data": {
      "text/plain": "dict_keys(['chicken_breast', 'chicken_thigh', 'ground_beef_lean', 'ground_turkey', 'plain_nonfat_greek_yogurt', 'sirloin_trimmed_of_visible_fat', 'cottag_cheese', 'skim milk', 'whey_protein_isolate', 'whole_egg'])"
     },
     "metadata": {},
     "execution_count": 67
    }
   ],
   "source": [
    "list(my_meal_planner.database.values())[0].keys()"
   ]
  },
  {
   "cell_type": "code",
   "execution_count": null,
   "metadata": {},
   "outputs": [],
   "source": []
  }
 ]
}